{
  "nbformat": 4,
  "nbformat_minor": 0,
  "metadata": {
    "colab": {
      "provenance": [],
      "toc_visible": true
    },
    "kernelspec": {
      "name": "python3",
      "display_name": "Python 3"
    },
    "language_info": {
      "name": "python"
    }
  },
  "cells": [
    {
      "cell_type": "code",
      "metadata": {
        "id": "VlKlLbJEcPb1"
      },
      "source": [
        "\n",
        "import torch\n",
        "import numpy as np\n",
        "import matplotlib.pyplot as plt\n",
        "import math\n",
        "import scipy.io\n",
        "from scipy.interpolate import Rbf\n"
      ],
      "execution_count": 1,
      "outputs": []
    },
    {
      "cell_type": "markdown",
      "metadata": {
        "id": "lJeRUJksj2tY"
      },
      "source": [
        "**Goal**\n",
        "\n",
        "The goal of this assignment is to locate the source of polution using real data obtained from USGS.\n",
        "\n",
        "You are given flow data (in cm/day) and the loacations where the concetration of lead in the water was bigger than 15 ppb at a few stations.\n",
        "\n",
        "In these cases engineers are asked to find the source of polution (where) and the time/time span the polution took place.\n",
        "\n",
        "You will need to use what you learned in this course to achieve this task.\n",
        "\n",
        "\n"
      ]
    },
    {
      "cell_type": "code",
      "metadata": {
        "colab": {
          "base_uri": "https://localhost:8080/",
          "height": 38
        },
        "id": "hlgf3iSfcteL",
        "outputId": "1105cc55-8402-4100-9027-85cd423fa15b"
      },
      "source": [
        "# load the data from your computer\n",
        "from google.colab import files\n",
        "uploaded = files.upload()"
      ],
      "execution_count": null,
      "outputs": [
        {
          "output_type": "display_data",
          "data": {
            "text/plain": [
              "<IPython.core.display.HTML object>"
            ],
            "text/html": [
              "\n",
              "     <input type=\"file\" id=\"files-1d3f5dad-68c5-4727-80b8-c7d598c87353\" name=\"files[]\" multiple disabled\n",
              "        style=\"border:none\" />\n",
              "     <output id=\"result-1d3f5dad-68c5-4727-80b8-c7d598c87353\">\n",
              "      Upload widget is only available when the cell has been executed in the\n",
              "      current browser session. Please rerun this cell to enable.\n",
              "      </output>\n",
              "      <script>// Copyright 2017 Google LLC\n",
              "//\n",
              "// Licensed under the Apache License, Version 2.0 (the \"License\");\n",
              "// you may not use this file except in compliance with the License.\n",
              "// You may obtain a copy of the License at\n",
              "//\n",
              "//      http://www.apache.org/licenses/LICENSE-2.0\n",
              "//\n",
              "// Unless required by applicable law or agreed to in writing, software\n",
              "// distributed under the License is distributed on an \"AS IS\" BASIS,\n",
              "// WITHOUT WARRANTIES OR CONDITIONS OF ANY KIND, either express or implied.\n",
              "// See the License for the specific language governing permissions and\n",
              "// limitations under the License.\n",
              "\n",
              "/**\n",
              " * @fileoverview Helpers for google.colab Python module.\n",
              " */\n",
              "(function(scope) {\n",
              "function span(text, styleAttributes = {}) {\n",
              "  const element = document.createElement('span');\n",
              "  element.textContent = text;\n",
              "  for (const key of Object.keys(styleAttributes)) {\n",
              "    element.style[key] = styleAttributes[key];\n",
              "  }\n",
              "  return element;\n",
              "}\n",
              "\n",
              "// Max number of bytes which will be uploaded at a time.\n",
              "const MAX_PAYLOAD_SIZE = 100 * 1024;\n",
              "\n",
              "function _uploadFiles(inputId, outputId) {\n",
              "  const steps = uploadFilesStep(inputId, outputId);\n",
              "  const outputElement = document.getElementById(outputId);\n",
              "  // Cache steps on the outputElement to make it available for the next call\n",
              "  // to uploadFilesContinue from Python.\n",
              "  outputElement.steps = steps;\n",
              "\n",
              "  return _uploadFilesContinue(outputId);\n",
              "}\n",
              "\n",
              "// This is roughly an async generator (not supported in the browser yet),\n",
              "// where there are multiple asynchronous steps and the Python side is going\n",
              "// to poll for completion of each step.\n",
              "// This uses a Promise to block the python side on completion of each step,\n",
              "// then passes the result of the previous step as the input to the next step.\n",
              "function _uploadFilesContinue(outputId) {\n",
              "  const outputElement = document.getElementById(outputId);\n",
              "  const steps = outputElement.steps;\n",
              "\n",
              "  const next = steps.next(outputElement.lastPromiseValue);\n",
              "  return Promise.resolve(next.value.promise).then((value) => {\n",
              "    // Cache the last promise value to make it available to the next\n",
              "    // step of the generator.\n",
              "    outputElement.lastPromiseValue = value;\n",
              "    return next.value.response;\n",
              "  });\n",
              "}\n",
              "\n",
              "/**\n",
              " * Generator function which is called between each async step of the upload\n",
              " * process.\n",
              " * @param {string} inputId Element ID of the input file picker element.\n",
              " * @param {string} outputId Element ID of the output display.\n",
              " * @return {!Iterable<!Object>} Iterable of next steps.\n",
              " */\n",
              "function* uploadFilesStep(inputId, outputId) {\n",
              "  const inputElement = document.getElementById(inputId);\n",
              "  inputElement.disabled = false;\n",
              "\n",
              "  const outputElement = document.getElementById(outputId);\n",
              "  outputElement.innerHTML = '';\n",
              "\n",
              "  const pickedPromise = new Promise((resolve) => {\n",
              "    inputElement.addEventListener('change', (e) => {\n",
              "      resolve(e.target.files);\n",
              "    });\n",
              "  });\n",
              "\n",
              "  const cancel = document.createElement('button');\n",
              "  inputElement.parentElement.appendChild(cancel);\n",
              "  cancel.textContent = 'Cancel upload';\n",
              "  const cancelPromise = new Promise((resolve) => {\n",
              "    cancel.onclick = () => {\n",
              "      resolve(null);\n",
              "    };\n",
              "  });\n",
              "\n",
              "  // Wait for the user to pick the files.\n",
              "  const files = yield {\n",
              "    promise: Promise.race([pickedPromise, cancelPromise]),\n",
              "    response: {\n",
              "      action: 'starting',\n",
              "    }\n",
              "  };\n",
              "\n",
              "  cancel.remove();\n",
              "\n",
              "  // Disable the input element since further picks are not allowed.\n",
              "  inputElement.disabled = true;\n",
              "\n",
              "  if (!files) {\n",
              "    return {\n",
              "      response: {\n",
              "        action: 'complete',\n",
              "      }\n",
              "    };\n",
              "  }\n",
              "\n",
              "  for (const file of files) {\n",
              "    const li = document.createElement('li');\n",
              "    li.append(span(file.name, {fontWeight: 'bold'}));\n",
              "    li.append(span(\n",
              "        `(${file.type || 'n/a'}) - ${file.size} bytes, ` +\n",
              "        `last modified: ${\n",
              "            file.lastModifiedDate ? file.lastModifiedDate.toLocaleDateString() :\n",
              "                                    'n/a'} - `));\n",
              "    const percent = span('0% done');\n",
              "    li.appendChild(percent);\n",
              "\n",
              "    outputElement.appendChild(li);\n",
              "\n",
              "    const fileDataPromise = new Promise((resolve) => {\n",
              "      const reader = new FileReader();\n",
              "      reader.onload = (e) => {\n",
              "        resolve(e.target.result);\n",
              "      };\n",
              "      reader.readAsArrayBuffer(file);\n",
              "    });\n",
              "    // Wait for the data to be ready.\n",
              "    let fileData = yield {\n",
              "      promise: fileDataPromise,\n",
              "      response: {\n",
              "        action: 'continue',\n",
              "      }\n",
              "    };\n",
              "\n",
              "    // Use a chunked sending to avoid message size limits. See b/62115660.\n",
              "    let position = 0;\n",
              "    do {\n",
              "      const length = Math.min(fileData.byteLength - position, MAX_PAYLOAD_SIZE);\n",
              "      const chunk = new Uint8Array(fileData, position, length);\n",
              "      position += length;\n",
              "\n",
              "      const base64 = btoa(String.fromCharCode.apply(null, chunk));\n",
              "      yield {\n",
              "        response: {\n",
              "          action: 'append',\n",
              "          file: file.name,\n",
              "          data: base64,\n",
              "        },\n",
              "      };\n",
              "\n",
              "      let percentDone = fileData.byteLength === 0 ?\n",
              "          100 :\n",
              "          Math.round((position / fileData.byteLength) * 100);\n",
              "      percent.textContent = `${percentDone}% done`;\n",
              "\n",
              "    } while (position < fileData.byteLength);\n",
              "  }\n",
              "\n",
              "  // All done.\n",
              "  yield {\n",
              "    response: {\n",
              "      action: 'complete',\n",
              "    }\n",
              "  };\n",
              "}\n",
              "\n",
              "scope.google = scope.google || {};\n",
              "scope.google.colab = scope.google.colab || {};\n",
              "scope.google.colab._files = {\n",
              "  _uploadFiles,\n",
              "  _uploadFilesContinue,\n",
              "};\n",
              "})(self);\n",
              "</script> "
            ]
          },
          "metadata": {}
        }
      ]
    },
    {
      "cell_type": "code",
      "metadata": {
        "id": "HXZtmfJ9dsKX"
      },
      "source": [
        "!ls"
      ],
      "execution_count": null,
      "outputs": []
    },
    {
      "cell_type": "code",
      "metadata": {
        "id": "iN7DutxdeEw3"
      },
      "source": [
        "# read the data\n",
        "data = scipy.io.loadmat('flow.mat')\n",
        "X = data['x']\n",
        "Y = data['y']\n",
        "U = data['u']\n",
        "V = data['v']\n",
        "\n",
        "X = X[:,:,0]\n",
        "Y = Y[:,:,0]\n",
        "U = U[:,:,10]\n",
        "V = V[:,:,10]"
      ],
      "execution_count": null,
      "outputs": []
    },
    {
      "cell_type": "code",
      "metadata": {
        "id": "zg8Fe_fKehrn"
      },
      "source": [
        "# plot the flow field and its magnitude\n",
        "fig, ax = plt.subplots()\n",
        "ax.quiver(X,Y,U,V)"
      ],
      "execution_count": null,
      "outputs": []
    },
    {
      "cell_type": "code",
      "metadata": {
        "id": "h1bJsygVgW_x"
      },
      "source": [
        "# plot the flow magnitude\n",
        "a = np.sqrt(U**2 + V**2)\n",
        "plt.contourf(X.reshape(35,41),Y.reshape(35,41),a)\n",
        "plt.colorbar()\n"
      ],
      "execution_count": null,
      "outputs": []
    },
    {
      "cell_type": "markdown",
      "metadata": {
        "id": "mRbB68k28X3o"
      },
      "source": [
        "**The polution file**\n",
        "\n",
        "Next we load the location of lead polution as observed in 20 stations in different locations.\n",
        "\n",
        "We plot the locations of the lead polution as observed on the same day together with the flow.\n"
      ]
    },
    {
      "cell_type": "code",
      "metadata": {
        "id": "nWjOh5Oo2cIe"
      },
      "source": [
        "# Get the polution data\n",
        "from google.colab import files\n",
        "p = files.upload()"
      ],
      "execution_count": null,
      "outputs": []
    },
    {
      "cell_type": "code",
      "metadata": {
        "id": "DVm_8Cr42z7I"
      },
      "source": [
        "data = scipy.io.loadmat('dataXY.mat')\n",
        "XY = data['XY']\n",
        "Xfinal = XY[:,0]\n",
        "Yfinal = XY[:,1]\n"
      ],
      "execution_count": null,
      "outputs": []
    },
    {
      "cell_type": "code",
      "metadata": {
        "id": "1L1OQpTF40Bq"
      },
      "source": [
        "# plot it on the same field as the flow\n",
        "fig, ax = plt.subplots()\n",
        "ax.quiver(X,Y,U,V)\n",
        "ax.plot(Xfinal,Yfinal,'*')"
      ],
      "execution_count": null,
      "outputs": []
    },
    {
      "cell_type": "code",
      "metadata": {
        "id": "dTe8KCp2o2KO"
      },
      "source": [],
      "execution_count": null,
      "outputs": []
    },
    {
      "cell_type": "markdown",
      "metadata": {
        "id": "7ZpWFRxL9qUE"
      },
      "source": [
        "Assignment\n",
        "\n",
        "1. Write a code that traces particles in the given velocity field. Note that you will need to interpolate the flow filed for that.\n",
        "\n",
        "2. Given the locations of the particles (the measurement stations), trace them backward to find the path of the particles.\n",
        "\n",
        "3. Plot the path of the particles and estimate the location the polution started from\n",
        "\n",
        "4. Evaluate the propagation of the polution in the next few days."
      ]
    },
    {
      "cell_type": "code",
      "metadata": {
        "id": "phmCE5SgIn22"
      },
      "source": [
        "def RBFfun(x,y,xI,yI,sigma):\n",
        "    phi = torch.exp(-((x-xI)**2 + (y-yI)**2)/sigma**2)\n",
        "    return phi"
      ],
      "execution_count": null,
      "outputs": []
    },
    {
      "cell_type": "code",
      "metadata": {
        "id": "rhiWHm-UIn_d"
      },
      "source": [
        "def RBFmatrix(x,y,sigma):\n",
        "\n",
        "    n = x.shape[0]\n",
        "    A = torch.zeros(n,n)\n",
        "    xI = x.reshape(x.shape[0], 1)\n",
        "    yI = y.reshape(y.shape[0], 1)\n",
        "    A = torch.exp(-((x-xI)**2 + (y-yI)**2)/sigma**2)\n",
        "\n",
        "    return A"
      ],
      "execution_count": null,
      "outputs": []
    },
    {
      "cell_type": "code",
      "metadata": {
        "id": "bCjTZ2beG2SA"
      },
      "source": [
        "def RBFinterp(x,y,f,xI,yI,sigma):\n",
        "\n",
        "    # Compute the RBF matrix\n",
        "    A = RBFmatrix(x,y,sigma);\n",
        "\n",
        "    # Compute the coefficients\n",
        "    c, LU = torch.solve(f.unsqueeze(1),A)\n",
        "\n",
        "    # Compute the data on the new points\n",
        "    nI = xI.shape[0]\n",
        "    n  = x.shape[0]\n",
        "    vI = torch.zeros(nI)\n",
        "    for i in range(nI):\n",
        "        for j in range(n):\n",
        "            vi = c[j]*RBFfun(x[j],y[j],xI[i],yI[i],sigma)\n",
        "            vI[i] += vi[0];\n",
        "\n",
        "    return vI"
      ],
      "execution_count": null,
      "outputs": []
    },
    {
      "cell_type": "code",
      "metadata": {
        "id": "IndLkAnWoc1q"
      },
      "source": [
        "#Question 1\n",
        "X = torch.Tensor(X.reshape(1435))\n",
        "Y = torch.Tensor(Y.reshape(1435))\n",
        "U = torch.Tensor(U.reshape(1435))\n",
        "V = torch.Tensor(V.reshape(1435))\n",
        "Xfinal = torch.Tensor(Xfinal)\n",
        "Yfinal = torch.Tensor(Yfinal)\n",
        "\n",
        "Uvec = RBFinterp(X,Y,U,Xfinal,Yfinal,sigma)\n",
        "Vvec = RBFinterp(X,Y,V,Xfinal,Yfinal,sigma)\n",
        "\n",
        "print('The flow vector in x direction of current particles: ')\n",
        "print(Uvec)\n",
        "\n",
        "print('The flow vector in y direction of current particles: ')\n",
        "print(Vvec)"
      ],
      "execution_count": null,
      "outputs": []
    },
    {
      "cell_type": "code",
      "metadata": {
        "id": "6v99uansjk6I"
      },
      "source": [
        "def prop_past(x0, y0,Uvec,Vvec,dt, N):\n",
        "\n",
        "    x = torch.zeros(N)\n",
        "    y = torch.zeros(N)\n",
        "\n",
        "    for i in range(N):\n",
        "     x[i] = x0[i] - dt*Uvec[i]\n",
        "     y[i] = y0[i] - dt*Vvec[i]\n",
        "\n",
        "    return x,y"
      ],
      "execution_count": null,
      "outputs": []
    },
    {
      "cell_type": "code",
      "metadata": {
        "id": "-KE1jihAehFp"
      },
      "source": [
        "def prop_future(x0, y0,Uvec,Vvec,dt, N):\n",
        "\n",
        "    x = torch.zeros(N)\n",
        "    y = torch.zeros(N)\n",
        "\n",
        "    for i in range(N):\n",
        "     x[i] = x0[i] + dt*Uvec[i]\n",
        "     y[i] = y0[i] + dt*Vvec[i]\n",
        "\n",
        "    return x,y"
      ],
      "execution_count": null,
      "outputs": []
    },
    {
      "cell_type": "code",
      "metadata": {
        "id": "ORBYktcvmQGb"
      },
      "source": [
        "def propN(x0,y0,Uvec,Vvec,dt,n,X,Y,U,V,Condition):\n",
        " N= x0.numel() #number of particles\n",
        " Xs = torch.zeros(n,N)\n",
        " Ys = torch.zeros(n,N)\n",
        "\n",
        " for j in range(n):\n",
        "   if Condition == 0:\n",
        "    x,y = prop_past(x0,y0,Uvec,Vvec,dt,N)\n",
        "   else:\n",
        "    x,y = prop_future(x0,y0,Uvec,Vvec,dt,N)\n",
        "\n",
        "   Xs[j,:] = x\n",
        "   Ys[j,:] = y\n",
        "   Uvec = RBFinterp(X,Y,U,x,y,sigma)\n",
        "   Vvec = RBFinterp(X,Y,V,x,y,sigma)\n",
        "   x0 = x\n",
        "   y0 = y\n",
        "\n",
        " return Xs, Ys"
      ],
      "execution_count": null,
      "outputs": []
    },
    {
      "cell_type": "code",
      "metadata": {
        "id": "SqEfTShFmWYf"
      },
      "source": [
        "#number 2\n",
        "\n",
        "n = 11\n",
        "Xp,Yp = propN(Xfinal,Yfinal,Uvec,Vvec,0.1,n, X, Y, U,V,0)\n",
        "\n",
        "print(\"the past particle cordinates are: \")\n",
        "\n",
        "print(\"The X cordinates: \")\n",
        "print(Xp)\n",
        "\n",
        "print(\"The Y cordinates: \")\n",
        "print(Yp)\n",
        "\n",
        "#number 3\n",
        "fig, ax = plt.subplots()\n",
        "ax.quiver(X,Y,U,V)\n",
        "ax.plot(Xfinal, Yfinal,'*')\n",
        "\n",
        "for i in range(11):\n",
        " ax.plot(Xp[i],Yp[i],'*')\n",
        "#the particle population flows from the left to the right it most likely comes from somewhere in the upper/middle left of graph as\n",
        "#the vectors with greatest magnitude are coming from that direction making them most likely to carry the particles."
      ],
      "execution_count": null,
      "outputs": []
    },
    {
      "cell_type": "code",
      "metadata": {
        "colab": {
          "base_uri": "https://localhost:8080/",
          "height": 883
        },
        "id": "flHhC3K1bg1a",
        "outputId": "579d3cd6-c42f-4830-8a51-38b602f6c678"
      },
      "source": [
        "#number 4\n",
        "n = 5\n",
        "Xf,Yf = propN(Xfinal,Yfinal,Uvec, Vvec,0.1,n, X, Y, U,V,1)\n",
        "\n",
        "print(\"the future particle cordinates are: \")\n",
        "\n",
        "print(\"The X cordinates: \")\n",
        "print(Xf)\n",
        "\n",
        "print(\"The Y cordinates: \")\n",
        "print(Yf)\n",
        "\n",
        "fig, ax = plt.subplots()\n",
        "ax.quiver(X,Y,U,V)\n",
        "ax.plot(Xfinal, Yfinal,'*')\n",
        "\n",
        "for i in range(5):\n",
        " ax.plot(Xf[i],Yf[i],'*')\n",
        "\n",
        " #the population moves to the right over the few days following the vectors with greatest magnitude toward the middle right side of graph"
      ],
      "execution_count": null,
      "outputs": [
        {
          "output_type": "stream",
          "text": [
            "the future particle cordinates are: \n",
            "The X cordinates: \n",
            "tensor([[117.6068, 117.5957, 117.2647, 116.4435, 115.3421, 113.5753, 112.0993,\n",
            "         110.7822, 110.1562, 109.4292, 109.0383, 108.8531, 108.7629, 108.7550,\n",
            "         108.8038, 108.8885, 109.0456, 109.3167, 109.6006, 110.0129],\n",
            "        [121.1598, 121.1612, 120.7202, 120.0588, 119.2513, 117.4781, 115.5738,\n",
            "         113.7097, 112.9662, 111.9379, 111.5286, 111.2971, 111.1435, 111.0582,\n",
            "         111.0295, 111.0324, 111.0901, 111.2428, 111.4957, 111.9934],\n",
            "        [125.2431, 125.1849, 124.3886, 123.6808, 122.3963, 120.8944, 119.0349,\n",
            "         116.8367, 115.6090, 114.4295, 113.7910, 113.3964, 113.1599, 113.0169,\n",
            "         112.9376, 112.8914, 112.9052, 113.0352, 113.3260, 113.8677],\n",
            "        [128.7583, 129.0757, 128.7231, 127.3978, 125.7169, 123.9517, 122.0923,\n",
            "         120.1480, 118.3446, 116.8752, 116.1555, 115.6326, 115.2151, 114.9422,\n",
            "         114.7816, 114.6727, 114.6427, 114.7636, 115.1060, 115.6330],\n",
            "        [132.5265, 133.2472, 132.8447, 131.7289, 129.6100, 127.2253, 124.9450,\n",
            "         123.0783, 121.3786, 119.6329, 118.5368, 117.8611, 117.4506, 117.0649,\n",
            "         116.7777, 116.5636, 116.4685, 116.5880, 116.9910, 117.4656]])\n",
            "The Y cordinates: \n",
            "tensor([[42.9604, 43.9145, 45.0915, 46.3966, 47.4318, 48.1807, 49.2818, 50.2870,\n",
            "         51.0351, 51.5557, 51.9249, 52.2276, 52.4714, 52.6955, 52.8909, 53.0808,\n",
            "         53.2596, 53.4085, 53.4306, 53.3215],\n",
            "        [41.4497, 42.2107, 43.3457, 44.7021, 46.1222, 47.3108, 48.6553, 49.7040,\n",
            "         50.5593, 51.2709, 51.7431, 52.1007, 52.3772, 52.6193, 52.8229, 53.0165,\n",
            "         53.1899, 53.3159, 53.2992, 53.1171],\n",
            "        [39.2253, 39.8422, 41.2073, 42.4760, 44.0318, 45.5217, 47.5164, 48.9667,\n",
            "         49.9078, 50.6310, 51.1939, 51.6292, 51.9523, 52.2266, 52.4544, 52.6684,\n",
            "         52.8507, 52.9598, 52.8931, 52.6463],\n",
            "        [37.8816, 38.1278, 39.1699, 40.4249, 41.7724, 43.4406, 45.6260, 47.5944,\n",
            "         48.8768, 49.8631, 50.4870, 50.9541, 51.3362, 51.6557, 51.9092, 52.1378,\n",
            "         52.3209, 52.4103, 52.3057, 52.0419],\n",
            "        [36.5623, 36.3324, 37.5907, 39.3035, 40.2089, 41.2888, 43.6207, 45.6264,\n",
            "         47.4633, 48.5780, 49.4315, 50.0868, 50.5242, 50.8885, 51.1785, 51.4348,\n",
            "         51.6295, 51.7003, 51.5528, 51.2747]])\n"
          ],
          "name": "stdout"
        },
        {
          "output_type": "display_data",
          "data": {
            "image/png": "[encoded data removed]",
            "text/plain": [
              "<Figure size 432x288 with 1 Axes>"
            ]
          },
          "metadata": {
            "tags": [],
            "needs_background": "light"
          }
        }
      ]
    },
    {
      "cell_type": "code",
      "metadata": {
        "colab": {
          "base_uri": "https://localhost:8080/",
          "height": 906
        },
        "id": "FN5otAK-in7o",
        "outputId": "a744caec-e286-49b6-b6d3-118b05e745ed"
      },
      "source": [
        "k = 16\n",
        "\n",
        "xT = Xfinal[:k]; yT = Yfinal[:k]  # training\n",
        "xV = Xfinal[k:]; yV = Yfinal[k:]  # validating\n",
        "\n",
        "Avec = torch.sqrt(Uvec**2 + Vvec**2)\n",
        "fT = Avec[:k]\n",
        "fV = Avec[k:]\n",
        "\n",
        "sigma = 1e-3\n",
        "sig = torch.zeros(16)\n",
        "r = torch.zeros(16)\n",
        "for i in range(16):\n",
        "    fV_est = RBFinterp(xT,yT,fT,xV,yV,sigma);\n",
        "    err = torch.abs(fV - fV_est).max()\n",
        "\n",
        "    #compute interpolation and error and record sigma and the error\n",
        "    sig[i] = sigma\n",
        "    r[i]   = err\n",
        "    sigma *= 2\n",
        "    print(i)\n",
        "    print(sigma)\n",
        " # Print the optimal value of sigma\n",
        "\n",
        "plt.loglog(sig,r)\n",
        "minVal = min(r)\n",
        "print(\"the lowest error\", minVal)\n",
        "minloc = int((r==minVal).nonzero(as_tuple=True)[0]) # find index\n",
        "print(\"the optimal sigma with lowest error\", sig[minloc])\n",
        "sigma = sig[minloc]"
      ],
      "execution_count": null,
      "outputs": [
        {
          "output_type": "stream",
          "text": [
            "0\n",
            "0.002\n",
            "1\n",
            "0.004\n",
            "2\n",
            "0.008\n",
            "3\n",
            "0.016\n",
            "4\n",
            "0.032\n",
            "5\n",
            "0.064\n",
            "6\n",
            "0.128\n",
            "7\n",
            "0.256\n",
            "8\n",
            "0.512\n",
            "9\n",
            "1.024\n",
            "10\n",
            "2.048\n",
            "11\n",
            "4.096\n",
            "12\n",
            "8.192\n",
            "13\n",
            "16.384\n",
            "14\n",
            "32.768\n",
            "15\n",
            "65.536\n",
            "the lowest error tensor(3.4990)\n",
            "the optimal sigma with lowest error tensor(1.0240)\n"
          ],
          "name": "stdout"
        },
        {
          "output_type": "display_data",
          "data": {
            "image/png": "[encoded data removed]",
            "text/plain": [
              "<Figure size 432x288 with 1 Axes>"
            ]
          },
          "metadata": {
            "tags": [],
            "needs_background": "light"
          }
        }
      ]
    }
  ]
}